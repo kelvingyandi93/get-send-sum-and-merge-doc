{
 "cells": [
  {
   "cell_type": "code",
   "execution_count": 39,
   "metadata": {},
   "outputs": [],
   "source": [
    "import tkinter as tk\n",
    "from tkinter import ttk\n",
    "from tkcalendar import Calendar\n",
    "\n",
    "class DateApp:\n",
    "    def __init__(self):\n",
    "        self.date = None\n",
    "        \n",
    "        self.root = tk.Tk()\n",
    "        self.root.title(\"Date App\")\n",
    "        \n",
    "        self.date_label = tk.Label(self.root, text=\"Select a date:\")\n",
    "        self.date_label.pack()\n",
    "        \n",
    "        self.date_text = tk.StringVar()\n",
    "        self.date_text.set(\"No date selected\")\n",
    "        self.date_display = tk.Label(self.root, textvariable=self.date_text)\n",
    "        self.date_display.pack()\n",
    "        \n",
    "        self.select_date_button = tk.Button(self.root, text=\"Select Date\", command=self.select_date)\n",
    "        self.select_date_button.pack()\n",
    "        \n",
    "        self.root.mainloop()\n",
    "    \n",
    "    def select_date(self):\n",
    "        top = tk.Toplevel(self.root)\n",
    "        cal = Calendar(top, selectmode='day', year=2023, month=4, day=23)\n",
    "        cal.pack()\n",
    "        \n",
    "        confirm_button = ttk.Button(top, text=\"OK\", command=self.update_date)\n",
    "        confirm_button.pack()\n",
    "    \n",
    "    def update_date(self):\n",
    "        self.date = cal.selection_get()\n",
    "        self.date_text.set(self.date.strftime(\"%Y-%m-%d\"))\n",
    "\n",
    "app = DateApp()\n"
   ]
  },
  {
   "cell_type": "code",
   "execution_count": 11,
   "metadata": {},
   "outputs": [
    {
     "ename": "TypeError",
     "evalue": "unsupported operand type(s) for +=: 'builtin_function_or_method' and 'int'",
     "output_type": "error",
     "traceback": [
      "\u001b[1;31m---------------------------------------------------------------------------\u001b[0m",
      "\u001b[1;31mTypeError\u001b[0m                                 Traceback (most recent call last)",
      "Cell \u001b[1;32mIn[11], line 22\u001b[0m\n\u001b[0;32m     20\u001b[0m             \u001b[39msum\u001b[39m \u001b[39m+\u001b[39m\u001b[39m=\u001b[39m \u001b[39m-\u001b[39m\u001b[39m1\u001b[39m \u001b[39m*\u001b[39m value[index]\n\u001b[0;32m     21\u001b[0m     \u001b[39melse\u001b[39;00m:\n\u001b[1;32m---> 22\u001b[0m         \u001b[39msum\u001b[39m \u001b[39m+\u001b[39m\u001b[39m=\u001b[39m value[symbol\u001b[39m.\u001b[39mindex(user[i])]\n\u001b[0;32m     24\u001b[0m \u001b[39mprint\u001b[39m(\u001b[39msum\u001b[39m)\n",
      "\u001b[1;31mTypeError\u001b[0m: unsupported operand type(s) for +=: 'builtin_function_or_method' and 'int'"
     ]
    }
   ],
   "source": [
    "symbol = [\"I\",\"V\",\"X\",\"L\",\"C\",\"D\",\"M\"]\n",
    "value = [1,5,10,50,100,500,1000]\n",
    "inp = []\n",
    "sum\n",
    "\n",
    "\n",
    "user = input(\"enter\")\n",
    "\n",
    "\n",
    "for i in range(len(user)):\n",
    "    if (len(user) > 2):\n",
    "        if (user[i] == user[i+1]):\n",
    "            index = symbol.index(user[i])\n",
    "            sum += value[index] * 2\n",
    "        elif (user[i] < user[i+1]):\n",
    "            index = symbol.index(user[i])\n",
    "            sum += -1 * value[index]\n",
    "        elif(user[i] > user[i+1]):\n",
    "            index = symbol.index(user[i])\n",
    "            sum += -1 * value[index]\n",
    "    else:\n",
    "        index = symbol.index(user[i])\n",
    "        sum += value[index]\n",
    "\n",
    "print(sum)"
   ]
  },
  {
   "cell_type": "code",
   "execution_count": 44,
   "metadata": {},
   "outputs": [
    {
     "ename": "TypeError",
     "evalue": "'list' object is not callable",
     "output_type": "error",
     "traceback": [
      "\u001b[1;31m---------------------------------------------------------------------------\u001b[0m",
      "\u001b[1;31mTypeError\u001b[0m                                 Traceback (most recent call last)",
      "Cell \u001b[1;32mIn[44], line 3\u001b[0m\n\u001b[0;32m      1\u001b[0m symbol \u001b[39m=\u001b[39m [\u001b[39m\"\u001b[39m\u001b[39mI\u001b[39m\u001b[39m\"\u001b[39m, \u001b[39m\"\u001b[39m\u001b[39mV\u001b[39m\u001b[39m\"\u001b[39m, \u001b[39m\"\u001b[39m\u001b[39mX\u001b[39m\u001b[39m\"\u001b[39m, \u001b[39m\"\u001b[39m\u001b[39mL\u001b[39m\u001b[39m\"\u001b[39m, \u001b[39m\"\u001b[39m\u001b[39mC\u001b[39m\u001b[39m\"\u001b[39m, \u001b[39m\"\u001b[39m\u001b[39mD\u001b[39m\u001b[39m\"\u001b[39m, \u001b[39m\"\u001b[39m\u001b[39mM\u001b[39m\u001b[39m\"\u001b[39m]\n\u001b[0;32m      2\u001b[0m value \u001b[39m=\u001b[39m [\u001b[39m1\u001b[39m, \u001b[39m5\u001b[39m, \u001b[39m10\u001b[39m, \u001b[39m50\u001b[39m, \u001b[39m100\u001b[39m, \u001b[39m500\u001b[39m, \u001b[39m1000\u001b[39m]\n\u001b[1;32m----> 3\u001b[0m user_name \u001b[39m=\u001b[39m \u001b[39minput\u001b[39;49m(\u001b[39m\"\u001b[39;49m\u001b[39mEnter your name: \u001b[39;49m\u001b[39m\"\u001b[39;49m)\n",
      "\u001b[1;31mTypeError\u001b[0m: 'list' object is not callable"
     ]
    }
   ],
   "source": [
    "symbol = [\"I\", \"V\", \"X\", \"L\", \"C\", \"D\", \"M\"]\n",
    "value = [1, 5, 10, 50, 100, 500, 1000]\n",
    "user_name = input(\"Enter your name: \")\n"
   ]
  }
 ],
 "metadata": {
  "kernelspec": {
   "display_name": "Python 3",
   "language": "python",
   "name": "python3"
  },
  "language_info": {
   "name": "python",
   "version": "3.9.2"
  },
  "orig_nbformat": 4
 },
 "nbformat": 4,
 "nbformat_minor": 2
}
