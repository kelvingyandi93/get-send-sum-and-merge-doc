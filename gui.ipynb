{
 "cells": [
  {
   "cell_type": "code",
   "execution_count": 2,
   "metadata": {},
   "outputs": [
    {
     "name": "stderr",
     "output_type": "stream",
     "text": [
      "Exception in Tkinter callback\n",
      "Traceback (most recent call last):\n",
      "  File \"c:\\Users\\kelvin.g'yandi\\AppData\\Local\\Programs\\Python\\Python39\\lib\\tkinter\\__init__.py\", line 1892, in __call__\n",
      "    return self.func(*args)\n",
      "  File \"C:\\Users\\kelvin.g'yandi\\AppData\\Local\\Temp\\ipykernel_20040\\1195997700.py\", line 34, in update_date\n",
      "    self.date = cal.selection_get()\n",
      "NameError: name 'cal' is not defined\n"
     ]
    }
   ],
   "source": [
    "import tkinter as tk\n",
    "from tkinter import ttk\n",
    "from tkcalendar import Calendar\n",
    "\n",
    "class DateApp:\n",
    "    def __init__(self):\n",
    "        self.date = None\n",
    "        \n",
    "        self.root = tk.Tk()\n",
    "        self.root.title(\"Date App\")\n",
    "        \n",
    "        self.date_label = tk.Label(self.root, text=\"Select a date:\")\n",
    "        self.date_label.pack()\n",
    "        \n",
    "        self.date_text = tk.StringVar()\n",
    "        self.date_text.set(\"No date selected\")\n",
    "        self.date_display = tk.Label(self.root, textvariable=self.date_text)\n",
    "        self.date_display.pack()\n",
    "        \n",
    "        self.select_date_button = tk.Button(self.root, text=\"Select Date\", command=self.select_date)\n",
    "        self.select_date_button.pack()\n",
    "        \n",
    "        self.root.mainloop()\n",
    "    \n",
    "    def select_date(self):\n",
    "        top = tk.Toplevel(self.root)\n",
    "        cal = Calendar(top, selectmode='day', year=2023, month=4, day=23)\n",
    "        cal.pack()\n",
    "        \n",
    "        confirm_button = ttk.Button(top, text=\"OK\", command=self.update_date)\n",
    "        confirm_button.pack()\n",
    "    \n",
    "    def update_date(self):\n",
    "        self.date = cal.selection_get()\n",
    "        self.date_text.set(self.date.strftime(\"%Y-%m-%d\"))\n",
    "\n",
    "app = DateApp()\n"
   ]
  }
 ],
 "metadata": {
  "kernelspec": {
   "display_name": "Python 3",
   "language": "python",
   "name": "python3"
  },
  "language_info": {
   "name": "python",
   "version": "3.9.2"
  },
  "orig_nbformat": 4
 },
 "nbformat": 4,
 "nbformat_minor": 2
}
